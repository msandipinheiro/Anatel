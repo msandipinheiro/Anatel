{
 "cells": [
  {
   "cell_type": "markdown",
   "metadata": {},
   "source": [
    "### Tarefa 5 - Implementar um identificador de citações\n",
    "- Objetivo:\n",
    "    - \"...ter um identificador de citações que retorna uma uma lista das citações para uma determinada resolução, e que retorna uma lista contendo id_resolucao e id_resolucao_citante;\"\n",
    "- https://taiga.anatel.gov.br/project/tpbvieira-resolucoes/us/5?kanban-status=51\n",
    "\n",
    "Fontes:\n",
    "- https://spacy.io/usage/processing-pipelines\n",
    "- https://spacy.io/api/language"
   ]
  },
  {
   "cell_type": "code",
   "execution_count": 1,
   "metadata": {
    "_cell_guid": "b1076dfc-b9ad-4769-8c92-a6c4dae69d19",
    "_uuid": "8f2839f25d086af736a60e9eeb907d3b93b6e0e5"
   },
   "outputs": [],
   "source": [
    "import pandas as pd\n",
    "import re\n",
    "\n",
    "# https://spacy.io/\n",
    "import spacy\n",
    "from spacy.matcher import Matcher\n",
    "\n",
    "# As funcionalidades NER e TextCat foram desabilitadas para que ocupe menos memória RAM\n",
    "# e para que o pipeline do spaCy fique mais rápido.\n",
    "# nlp é o nome dado ao objeto do tipo pipeline do spaCy e\n",
    "# foi carregado o modelo de linguagem para português tamanho small - pt_core_news_sm\n",
    "nlp = spacy.load('pt_core_news_sm', disable=['ner','textcat'])\n",
    "\n",
    "# Aumenta o limite de leitura (quantidade de caracteres) para cada documento.\n",
    "# max_length deve ser redimensionado conforme for a situação e necessidade.\n",
    "nlp.max_length = 1500000 "
   ]
  },
  {
   "cell_type": "markdown",
   "metadata": {},
   "source": [
    "### Prepara para leitura do `corpus` de Resoluções da Anatel  \n",
    "- Para o programa citacoes.ipynb funcionar, atualmente, são necessários os arquivos:\n",
    "\t- resolucoes_text.csv\n",
    "\t- nro_id_resolucao.csv\n",
    "- `Corpus` resolucoes_text.csv\n",
    "- `Lista` com id e nro de cada Resolução: nro_id_resolucao.csv  \n",
    "- Baixo código SQL que gera a lista  \n",
    "    select  \n",
    "\n",
    "        distinct substring(alias, length(substring_index(alias, '-', 1))+2, length(alias)) as nro_res, \n",
    "\n",
    "        ctx.id, ctx.alias, ctx.title  \n",
    "\n",
    "    from prod_legislacao.bno4z_content ctx  \n",
    "\n",
    "    where   \n",
    "\n",
    "            lower(ctx.title) like 'resolu%'  \n",
    "\n",
    "        and ctx.language <> 'en-US'   \n",
    "\n",
    "        and ctx.language <> 'es-ES'   \n",
    "\n",
    "        and state=1  \n",
    "\n",
    "    order by nro_res  \n",
    "    "
   ]
  },
  {
   "cell_type": "code",
   "execution_count": 2,
   "metadata": {
    "_uuid": "f5f4a400882611bccdf41156274559356431a391"
   },
   "outputs": [],
   "source": [
    "arq = \"resolucoes_text.csv\" # corpus\n",
    "arq_nro_res = \"nro_id_resolucao.csv\" # lista\n",
    "# dir = \"/home/marcello/git/anatel/datasets/\" \n",
    "dir = \"C:/Users/sandi.engesoftware/Documents/workspace/resolucoes-similaridade/datasets/\"\n",
    "sep = \"|\" \n",
    "enc = \"utf-8\"\n",
    "# dataframe com o par id e texto das Resoluções\n",
    "resolucoes = pd.read_csv(dir+arq, sep=sep, encoding=enc)\n",
    "# dataframe com a lista das Resoluções e seus respectivos nro e id\n",
    "nro_id_resolucao = pd.read_csv(dir+arq_nro_res, sep=',', encoding=enc)"
   ]
  },
  {
   "cell_type": "markdown",
   "metadata": {},
   "source": [
    "### Identificação dos padrões de citações\n",
    "- No momento foram identificados nove tipos de padrões de escrita das Citações.\n",
    "- Os padrões são preparados para estarem no formato de dicionário chave:valor.\n",
    "- Matcher (https://spacy.io/api/matcher) é uma classe do spaCy preparada para identificar em seu pipeline os tokens estruturados contidos no dicionário de padrões pré-construído.\n",
    "    - Ex. de dicionário: [{'POS':'TEXT'}], onde:\n",
    "        - POS assinala que estarão em TEXT as tags do PoS-Tag do spaCy e\n",
    "        - TEXT é a tag com o texto correspondente ao token no pipeline spacy_doc."
   ]
  },
  {
   "cell_type": "code",
   "execution_count": 3,
   "metadata": {
    "_uuid": "22c035d9c6f731f6ec0976d4a1e81852d2ae8fbf"
   },
   "outputs": [],
   "source": [
    "# https://spacy.io/api/annotation#pos-tagging\n",
    "# https://universaldependencies.org/u/pos/\n",
    "# PoS-Tag com os 9 tipos de padrões de citações identificados\n",
    "patterns  = [['NOUN','NOUN','NUM','PUNCT','ADP','NUM','ADP','NOUN','ADP','NUM'],\n",
    "            #['NOUN','NUM','DET','NOUN','NOUN','NUM','PUNCT','ADP','NUM','ADP','NOUN','ADP','NUM'], # padrão duplicado\n",
    "            ['NOUN','NUM','DET','PROPN','DET','PROPN','PROPN','ADP','PROPN'],\n",
    "            #['NOUN','NOUN','NUM','PUNCT','ADP','NUM','ADP','NOUN','ADP','NUM'], # padrão duplicado\n",
    "            ['PROPN','PROPN','NOUN','NUM','PUNCT','ADP','NUM','ADP','NOUN','ADP','NUM'],\n",
    "            ['NOUN','ADJ','DET','PROPN','DET','NOUN','NUM','ADP','NOUN','ADP','NUM'],\n",
    "            ['NOUN','ADJ','DET','PROPN','PROPN','ADP','PROPN','ADP','PROPN'],\n",
    "            ['NOUN','NOUN','NUM','NUM'],\n",
    "            ['NOUN','NUM','DET','NOUN','NOUN','NUM','PUNCT','ADP','NUM','ADP','NOUN','ADP','NUM']]\n",
    "\n",
    "# padrão de citação errado\n",
    "#['NOUN','ADJ','DET','NOUN','NOUN','NUM','PUNCT','ADP','NUM','ADP','NOUN','ADP','NUM']\n",
    "\n",
    "# Sequências de correspondência de tokens, com base em padrão de regras\n",
    "# https://spacy.io/usage/rule-based-matching\n",
    "# https://spacy.io/api/matcher\n",
    "matcher = Matcher(nlp.vocab)\n",
    "\n",
    "# Iteração que coloca em formato de dicionário os padrões PoS-Tag contidos em patterns\n",
    "for i in range(len(patterns)):\n",
    "    pattern = [{'POS': pi} for pi in patterns[i]] # iteração que cria o dicionário a partir de patterns\n",
    "    matcher.add('c'+str(i), None, pattern) # cria uma lista de listas de dicionários"
   ]
  },
  {
   "cell_type": "markdown",
   "metadata": {},
   "source": [
    "### Funções para identificação dos tipos de citações e informa o id (chave primária) de uma Resolução a partir de seu nro."
   ]
  },
  {
   "cell_type": "code",
   "execution_count": 4,
   "metadata": {},
   "outputs": [],
   "source": [
    "# função que identifica se a citação é uma resolução\n",
    "def find_word_resolucao(resolucao):\n",
    "    res = re.search(r'resolu\\w+|\\d{1,}', resolucao.lower())\n",
    "    try:\n",
    "        return res.group(0)\n",
    "    except:\n",
    "        res = None\n",
    "\n",
    "# retorna True se a citação for do tipo Resolução\n",
    "def is_resolucao(resolucao):\n",
    "    res = find_word_resolucao(resolucao.lower())\n",
    "    try:\n",
    "        if res[0:6] == 'resolu':\n",
    "            return True\n",
    "        else: \n",
    "            return False\n",
    "    except:\n",
    "        res = None\n",
    "\n",
    "# retorna o primeiro conjunto de números com 1 a 5 dígitos de tamanho\n",
    "def find_nro_resolucao(resolucao):\n",
    "    try:\n",
    "        res = re.search(r'(?!.!\\b)(\\d{1,})', resolucao.lower())\n",
    "        return res.group(0)\n",
    "    except:\n",
    "        res = None\n",
    "\n",
    "# informa o id de uma Resolução citada a partir do seu nro\n",
    "def find_id_resolucao(citacao):\n",
    "    res = find_nro_resolucao(citacao)\n",
    "    try:\n",
    "        for idx, title in enumerate(nro_id_resolucao.title):\n",
    "            nro = find_nro_resolucao(title)\n",
    "            if int(nro) == int(res):\n",
    "                resp = nro_id_resolucao.loc[idx].id\n",
    "                break\n",
    "        return resp\n",
    "    except:\n",
    "        res = None\n",
    "\n",
    "# limpa os caracteres no final da citação (depois do ano)\n",
    "def clean_citacao(citacao):\n",
    "    ### ajustar regex >>> 272|74|anatel nº 402, de 27 de abril de 2005 <<<\n",
    "    try: \n",
    "        #res = re.search(r'((Resolu\\w*.?\\w*.\\w*.\\w*.\\w*.\\w*.\\w*.\\w*.\\w*.\\w*.\\d{4})(?!.!)', citacao.lower())\n",
    "        res = re.search(r'(((.)*)(\\d{4})(?!.!)', citacao.lower())\n",
    "        return res.group(0)\n",
    "    except:\n",
    "        res = None"
   ]
  },
  {
   "cell_type": "markdown",
   "metadata": {},
   "source": [
    "### Identificar padrões de citação\n",
    "- Percorre a lista de tokens no pipeline spacy_doc a procura dos padrões contidos no dicionário matcher\n",
    "- e grava id_resolucao, id_resolucao_citante, citacao das citações identificadas no arquivo `citacoes.csv`"
   ]
  },
  {
   "source": [
    "# separar em resoluções e não resoluções\n",
    "df_resolucoes     = pd.DataFrame(columns=['id_resolucao','id_resolucao_citante', 'citacao'])\n",
    "df_nao_resolucoes = pd.DataFrame(columns=['id_resolucao_citante', 'citacao'])\n",
    "\n",
    "# cria o objeto file citacoes.csv onde serão armazenadas as citações encontradas \n",
    "# a partir dos padrões contidos em matcher.\n",
    "arq_citacoes = 'citacoes.csv' # nome do arquivo que armazenará as citações\n",
    "try:\n",
    "    file_object = open(dir+arq_citacoes, 'w', encoding='utf-8') # criar o arquivo\n",
    "    file_object.write('id_resolucao|id_resolucao_citante|citacao\\n') # grava o cabeçalho\n",
    "    i = 0 # índice\n",
    "    for texto in resolucoes.Texto: # itera cada resolução\n",
    "        spacy_doc = nlp(texto) # cria o pipeline spacy_doc e incorpora cada resolução ao modelo de linguagem\n",
    "        matches   = matcher(spacy_doc) # recupera em matches os dicionários de padrões de citações patterns\n",
    "        jr        = df_resolucoes.size # índice df_resolucoes\n",
    "        jn        = df_nao_resolucoes.size # índice df_nao_resolucao\n",
    "        for match_id, start, end in matches: # itera o texto da resolução e faz o match conforme os padrões no dicionário\n",
    "            match_span = spacy_doc[start:end] # demarca o limite de cada token encontrado      \n",
    "            # categoriza #\n",
    "            if is_resolucao(match_span.text):\n",
    "                # guarda em df_resolucoes as citações e rela;óes entre id_resolucao e id_resolucao_citante\n",
    "                df_resolucoes.loc[jr,'id_resolucao']         = find_id_resolucao(match_span.text)\n",
    "                df_resolucoes.loc[jr,'id_resolucao_citante'] = resolucoes.id_resolucao[i]\n",
    "                df_resolucoes.loc[jr,'citacao']              = match_span.text\n",
    "                #df_resolucoes.loc[jr,'citacao']              = clean_citacao(match_span.text)\n",
    "\n",
    "                # variáveis que serão usadas para gravar os dados no arquivo citacoes.csv\n",
    "                id_resolucao_citante = df_resolucoes.loc[jr].id_resolucao_citante\n",
    "                id_resolucao         = df_resolucoes.loc[jr].id_resolucao\n",
    "                citacao              = df_resolucoes.loc[jr].citacao\n",
    "\n",
    "                jr += 1 # incrementa o índice df_resolucoes\n",
    "                # grava o resultado no arquivo\n",
    "                file_object.write(str(id_resolucao) + '|' + str(id_resolucao_citante) + '|' + citacao + '\\n')\n",
    "            else:\n",
    "                df_nao_resolucoes.loc[jn,'id_resolucao_citante'] = resolucoes.id_resolucao[i]\n",
    "                df_nao_resolucoes.loc[jn,'citacao']              = match_span.text\n",
    "                jn += 1 # incrementa o índice df_nao_resolucoes\n",
    "        i += 1 # incrementa o índice\n",
    "except:\n",
    "    print(\"Erro ao criar dataset citacoes.csv\")\n",
    "finally:\n",
    "    # fecha o arquivo citacoes.csv\n",
    "    file_object.close() "
   ],
   "cell_type": "code",
   "metadata": {
    "_uuid": "2d7d35801f121650c52605acce1872698760c0e9"
   },
   "execution_count": 5,
   "outputs": []
  },
  {
   "cell_type": "markdown",
   "metadata": {},
   "source": [
    "### \"Utilizar como `baseline` o trabalho feito pelo Daniel em git.anatel.gov.br/informacao-e-conhecimento/data-science/resolucoes;\""
   ]
  },
  {
   "cell_type": "code",
   "execution_count": 19,
   "metadata": {},
   "outputs": [
    {
     "output_type": "stream",
     "name": "stdout",
     "text": [
      "(3172,) (3588, 3)\n"
     ]
    }
   ],
   "source": [
    "# carregando os arquivos\n",
    "arq_y_true = \"resolucoes_citacoes.csv\" # baseline pares id_resolucao;id_resolucao_citante do programa Resolucoes.py\n",
    "arq_y_pred = \"citacoes.csv\" # pares id_resolucao|id_resolucao_citante identificados pelo presente programa\n",
    "\n",
    "dir_y_true = \"C:/Users/sandi.engesoftware/Documents/workspace/resolucoes-similaridade/datasets/arquivos-resolucoes/\"\n",
    "dir_y_pred = 'C:/Users/sandi.engesoftware/Documents/workspace/resolucoes-similaridade/datasets/'\n",
    "\n",
    "sep_y_true = \";\" # Resolucoes.py\n",
    "sep_y_pred = \"|\" # citacoes.ipynb\n",
    "\n",
    "enc = \"utf-8\" # caracter code padrão\n",
    "# dataframe de resolucoes_citacoes.cs\n",
    "resolucoes_py  = pd.read_csv(dir_y_true+arq_y_true, sep=sep_y_true, encoding=enc)\n",
    "# dataframe de citacoes.ipynb\n",
    "citacoes_ipynb = pd.read_csv(dir_y_pred+arq_y_pred, sep=sep_y_pred, encoding=enc)\n",
    "\n",
    "print(resolucoes_py.id_resolucao.shape, citacoes_ipynb.shape)"
   ]
  },
  {
   "cell_type": "markdown",
   "metadata": {},
   "source": [
    "### Premissas\n",
    "- Considerando `y_true`: **id_resolucao-id_resolucao_citante** de citações `existentes` que o programa `Resolucoes.py` recupera.\n",
    "- Considerando `y_pred`: **id_resolucao-id_resolucao_citante** de citações `\"preditas\"` que o programa `citacoes.ipynb` recupera."
   ]
  },
  {
   "cell_type": "code",
   "execution_count": 20,
   "metadata": {},
   "outputs": [
    {
     "output_type": "stream",
     "name": "stdout",
     "text": [
      "res_citacoes Qtd: (3172,)  cit_citacoes Qtd: (3588,)\n"
     ]
    }
   ],
   "source": [
    "res_citacoes = pd.DataFrame()\n",
    "cit_citacoes = pd.DataFrame()\n",
    "# res_citacoes: pares de id_resolucao;id_resolucao_citante gerado pelo Resolucoes.py\n",
    "res_citacoes['id_resolucao'] = resolucoes_py.id_resolucao\n",
    "res_citacoes['id_resolucao_citante'] = resolucoes_py.id_resolucao_citante\n",
    "res_citacoes['y_true'] = resolucoes_py['id_resolucao'].astype(str) +'-'+ resolucoes_py['id_resolucao_citante'].astype(str)\n",
    "\n",
    "# cit_citacoes: pares de id_resolucao;id_resolucao_citante gerado pelo citacoes.ipynb\n",
    "cit_citacoes['id_resolucao'] = citacoes_ipynb.id_resolucao\n",
    "cit_citacoes['id_resolucao_citante'] = citacoes_ipynb.id_resolucao_citante\n",
    "cit_citacoes['y_pred'] = citacoes_ipynb['id_resolucao'].astype(str) +'-'+ citacoes_ipynb['id_resolucao_citante'].astype(str)\n",
    "print('res_citacoes Qtd: {}  cit_citacoes Qtd: {}'.format(res_citacoes['y_true'].shape, cit_citacoes['y_pred'].shape))"
   ]
  },
  {
   "cell_type": "code",
   "execution_count": 21,
   "metadata": {},
   "outputs": [
    {
     "output_type": "execute_result",
     "data": {
      "text/plain": [
       "      id_resolucao  id_resolucao_citante    y_pred\n",
       "0              493                     4     493-4\n",
       "1               94                     4      94-4\n",
       "2               94                     4      94-4\n",
       "3               94                     4      94-4\n",
       "4               94                     4      94-4\n",
       "...            ...                   ...       ...\n",
       "3583           146                  1383  146-1383\n",
       "3584           287                  1383  287-1383\n",
       "3585           450                  1385  450-1385\n",
       "3586           450                  1385  450-1385\n",
       "3587           450                  1385  450-1385\n",
       "\n",
       "[3588 rows x 3 columns]"
      ],
      "text/html": "<div>\n<style scoped>\n    .dataframe tbody tr th:only-of-type {\n        vertical-align: middle;\n    }\n\n    .dataframe tbody tr th {\n        vertical-align: top;\n    }\n\n    .dataframe thead th {\n        text-align: right;\n    }\n</style>\n<table border=\"1\" class=\"dataframe\">\n  <thead>\n    <tr style=\"text-align: right;\">\n      <th></th>\n      <th>id_resolucao</th>\n      <th>id_resolucao_citante</th>\n      <th>y_pred</th>\n    </tr>\n  </thead>\n  <tbody>\n    <tr>\n      <th>0</th>\n      <td>493</td>\n      <td>4</td>\n      <td>493-4</td>\n    </tr>\n    <tr>\n      <th>1</th>\n      <td>94</td>\n      <td>4</td>\n      <td>94-4</td>\n    </tr>\n    <tr>\n      <th>2</th>\n      <td>94</td>\n      <td>4</td>\n      <td>94-4</td>\n    </tr>\n    <tr>\n      <th>3</th>\n      <td>94</td>\n      <td>4</td>\n      <td>94-4</td>\n    </tr>\n    <tr>\n      <th>4</th>\n      <td>94</td>\n      <td>4</td>\n      <td>94-4</td>\n    </tr>\n    <tr>\n      <th>...</th>\n      <td>...</td>\n      <td>...</td>\n      <td>...</td>\n    </tr>\n    <tr>\n      <th>3583</th>\n      <td>146</td>\n      <td>1383</td>\n      <td>146-1383</td>\n    </tr>\n    <tr>\n      <th>3584</th>\n      <td>287</td>\n      <td>1383</td>\n      <td>287-1383</td>\n    </tr>\n    <tr>\n      <th>3585</th>\n      <td>450</td>\n      <td>1385</td>\n      <td>450-1385</td>\n    </tr>\n    <tr>\n      <th>3586</th>\n      <td>450</td>\n      <td>1385</td>\n      <td>450-1385</td>\n    </tr>\n    <tr>\n      <th>3587</th>\n      <td>450</td>\n      <td>1385</td>\n      <td>450-1385</td>\n    </tr>\n  </tbody>\n</table>\n<p>3588 rows × 3 columns</p>\n</div>"
     },
     "metadata": {},
     "execution_count": 21
    }
   ],
   "source": [
    "cit_citacoes"
   ]
  },
  {
   "cell_type": "code",
   "execution_count": 26,
   "metadata": {},
   "outputs": [
    {
     "output_type": "execute_result",
     "data": {
      "text/plain": [
       "      id_resolucao  id_resolucao_citante    y_true\n",
       "0              493                     4     493-4\n",
       "1               34                     5      34-5\n",
       "2              330                     5     330-5\n",
       "3              166                     5     166-5\n",
       "4              167                     5     167-5\n",
       "...            ...                   ...       ...\n",
       "3167           197                  1457  197-1457\n",
       "3168           347                  1457  347-1457\n",
       "3169           614                  1470  614-1470\n",
       "3170           614                  1470  614-1470\n",
       "3171           614                  1470  614-1470\n",
       "\n",
       "[3172 rows x 3 columns]"
      ],
      "text/html": "<div>\n<style scoped>\n    .dataframe tbody tr th:only-of-type {\n        vertical-align: middle;\n    }\n\n    .dataframe tbody tr th {\n        vertical-align: top;\n    }\n\n    .dataframe thead th {\n        text-align: right;\n    }\n</style>\n<table border=\"1\" class=\"dataframe\">\n  <thead>\n    <tr style=\"text-align: right;\">\n      <th></th>\n      <th>id_resolucao</th>\n      <th>id_resolucao_citante</th>\n      <th>y_true</th>\n    </tr>\n  </thead>\n  <tbody>\n    <tr>\n      <th>0</th>\n      <td>493</td>\n      <td>4</td>\n      <td>493-4</td>\n    </tr>\n    <tr>\n      <th>1</th>\n      <td>34</td>\n      <td>5</td>\n      <td>34-5</td>\n    </tr>\n    <tr>\n      <th>2</th>\n      <td>330</td>\n      <td>5</td>\n      <td>330-5</td>\n    </tr>\n    <tr>\n      <th>3</th>\n      <td>166</td>\n      <td>5</td>\n      <td>166-5</td>\n    </tr>\n    <tr>\n      <th>4</th>\n      <td>167</td>\n      <td>5</td>\n      <td>167-5</td>\n    </tr>\n    <tr>\n      <th>...</th>\n      <td>...</td>\n      <td>...</td>\n      <td>...</td>\n    </tr>\n    <tr>\n      <th>3167</th>\n      <td>197</td>\n      <td>1457</td>\n      <td>197-1457</td>\n    </tr>\n    <tr>\n      <th>3168</th>\n      <td>347</td>\n      <td>1457</td>\n      <td>347-1457</td>\n    </tr>\n    <tr>\n      <th>3169</th>\n      <td>614</td>\n      <td>1470</td>\n      <td>614-1470</td>\n    </tr>\n    <tr>\n      <th>3170</th>\n      <td>614</td>\n      <td>1470</td>\n      <td>614-1470</td>\n    </tr>\n    <tr>\n      <th>3171</th>\n      <td>614</td>\n      <td>1470</td>\n      <td>614-1470</td>\n    </tr>\n  </tbody>\n</table>\n<p>3172 rows × 3 columns</p>\n</div>"
     },
     "metadata": {},
     "execution_count": 26
    }
   ],
   "source": [
    "res_citacoes"
   ]
  },
  {
   "cell_type": "markdown",
   "metadata": {},
   "source": [
    "- Ordena e recria os índices dos dataframes res_citacoes e cit_citacoes\n"
   ]
  },
  {
   "cell_type": "code",
   "execution_count": 27,
   "metadata": {},
   "outputs": [
    {
     "output_type": "execute_result",
     "data": {
      "text/plain": [
       "      id_resolucao  id_resolucao_citante   y_true\n",
       "361             10                   116   10-116\n",
       "363             10                   116   10-116\n",
       "365             10                   116   10-116\n",
       "366             10                   117   10-117\n",
       "367             10                   117   10-117\n",
       "...            ...                   ...      ...\n",
       "313             96                    88    96-88\n",
       "314             96                    88    96-88\n",
       "1621            97                   790   97-790\n",
       "747             98                   308   98-308\n",
       "2069            99                  1257  99-1257\n",
       "\n",
       "[3172 rows x 3 columns]"
      ],
      "text/html": "<div>\n<style scoped>\n    .dataframe tbody tr th:only-of-type {\n        vertical-align: middle;\n    }\n\n    .dataframe tbody tr th {\n        vertical-align: top;\n    }\n\n    .dataframe thead th {\n        text-align: right;\n    }\n</style>\n<table border=\"1\" class=\"dataframe\">\n  <thead>\n    <tr style=\"text-align: right;\">\n      <th></th>\n      <th>id_resolucao</th>\n      <th>id_resolucao_citante</th>\n      <th>y_true</th>\n    </tr>\n  </thead>\n  <tbody>\n    <tr>\n      <th>361</th>\n      <td>10</td>\n      <td>116</td>\n      <td>10-116</td>\n    </tr>\n    <tr>\n      <th>363</th>\n      <td>10</td>\n      <td>116</td>\n      <td>10-116</td>\n    </tr>\n    <tr>\n      <th>365</th>\n      <td>10</td>\n      <td>116</td>\n      <td>10-116</td>\n    </tr>\n    <tr>\n      <th>366</th>\n      <td>10</td>\n      <td>117</td>\n      <td>10-117</td>\n    </tr>\n    <tr>\n      <th>367</th>\n      <td>10</td>\n      <td>117</td>\n      <td>10-117</td>\n    </tr>\n    <tr>\n      <th>...</th>\n      <td>...</td>\n      <td>...</td>\n      <td>...</td>\n    </tr>\n    <tr>\n      <th>313</th>\n      <td>96</td>\n      <td>88</td>\n      <td>96-88</td>\n    </tr>\n    <tr>\n      <th>314</th>\n      <td>96</td>\n      <td>88</td>\n      <td>96-88</td>\n    </tr>\n    <tr>\n      <th>1621</th>\n      <td>97</td>\n      <td>790</td>\n      <td>97-790</td>\n    </tr>\n    <tr>\n      <th>747</th>\n      <td>98</td>\n      <td>308</td>\n      <td>98-308</td>\n    </tr>\n    <tr>\n      <th>2069</th>\n      <td>99</td>\n      <td>1257</td>\n      <td>99-1257</td>\n    </tr>\n  </tbody>\n</table>\n<p>3172 rows × 3 columns</p>\n</div>"
     },
     "metadata": {},
     "execution_count": 27
    }
   ],
   "source": [
    "res_citacoes.sort_values(by='y_true', inplace=True)\n",
    "res_citacoes"
   ]
  },
  {
   "cell_type": "code",
   "execution_count": 11,
   "metadata": {},
   "outputs": [
    {
     "output_type": "execute_result",
     "data": {
      "text/plain": [
       "      id_resolucao  id_resolucao_citante   y_pred\n",
       "0               10                   116   10-116\n",
       "1               10                   116   10-116\n",
       "2               10                   117   10-117\n",
       "3               10                   117   10-117\n",
       "4               10                   118   10-118\n",
       "...            ...                   ...      ...\n",
       "3583           978                   450  978-450\n",
       "3584           978                   450  978-450\n",
       "3585           978                   450  978-450\n",
       "3586            98                   308   98-308\n",
       "3587            99                  1257  99-1257\n",
       "\n",
       "[3588 rows x 3 columns]"
      ],
      "text/html": "<div>\n<style scoped>\n    .dataframe tbody tr th:only-of-type {\n        vertical-align: middle;\n    }\n\n    .dataframe tbody tr th {\n        vertical-align: top;\n    }\n\n    .dataframe thead th {\n        text-align: right;\n    }\n</style>\n<table border=\"1\" class=\"dataframe\">\n  <thead>\n    <tr style=\"text-align: right;\">\n      <th></th>\n      <th>id_resolucao</th>\n      <th>id_resolucao_citante</th>\n      <th>y_pred</th>\n    </tr>\n  </thead>\n  <tbody>\n    <tr>\n      <th>0</th>\n      <td>10</td>\n      <td>116</td>\n      <td>10-116</td>\n    </tr>\n    <tr>\n      <th>1</th>\n      <td>10</td>\n      <td>116</td>\n      <td>10-116</td>\n    </tr>\n    <tr>\n      <th>2</th>\n      <td>10</td>\n      <td>117</td>\n      <td>10-117</td>\n    </tr>\n    <tr>\n      <th>3</th>\n      <td>10</td>\n      <td>117</td>\n      <td>10-117</td>\n    </tr>\n    <tr>\n      <th>4</th>\n      <td>10</td>\n      <td>118</td>\n      <td>10-118</td>\n    </tr>\n    <tr>\n      <th>...</th>\n      <td>...</td>\n      <td>...</td>\n      <td>...</td>\n    </tr>\n    <tr>\n      <th>3583</th>\n      <td>978</td>\n      <td>450</td>\n      <td>978-450</td>\n    </tr>\n    <tr>\n      <th>3584</th>\n      <td>978</td>\n      <td>450</td>\n      <td>978-450</td>\n    </tr>\n    <tr>\n      <th>3585</th>\n      <td>978</td>\n      <td>450</td>\n      <td>978-450</td>\n    </tr>\n    <tr>\n      <th>3586</th>\n      <td>98</td>\n      <td>308</td>\n      <td>98-308</td>\n    </tr>\n    <tr>\n      <th>3587</th>\n      <td>99</td>\n      <td>1257</td>\n      <td>99-1257</td>\n    </tr>\n  </tbody>\n</table>\n<p>3588 rows × 3 columns</p>\n</div>"
     },
     "metadata": {},
     "execution_count": 11
    }
   ],
   "source": [
    "cit_citacoes.sort_values(by='y_pred', ignore_index=True, inplace=True)\n",
    "cit_citacoes"
   ]
  },
  {
   "cell_type": "markdown",
   "metadata": {},
   "source": [
    "### Transforma `id_resolucao` e `id_resolucao_citante` em índice\n",
    "- O objetivo é garantir que os pares sejam corretamente utilizados como `chave:valor` na etapa de `junção/merge`"
   ]
  },
  {
   "cell_type": "code",
   "execution_count": 28,
   "metadata": {},
   "outputs": [
    {
     "output_type": "execute_result",
     "data": {
      "text/plain": [
       "                                    y_true\n",
       "id_resolucao id_resolucao_citante         \n",
       "10           116                    10-116\n",
       "             116                    10-116\n",
       "             116                    10-116\n",
       "             117                    10-117\n",
       "             117                    10-117\n",
       "...                                    ...\n",
       "96           88                      96-88\n",
       "             88                      96-88\n",
       "97           790                    97-790\n",
       "98           308                    98-308\n",
       "99           1257                  99-1257\n",
       "\n",
       "[3172 rows x 1 columns]"
      ],
      "text/html": "<div>\n<style scoped>\n    .dataframe tbody tr th:only-of-type {\n        vertical-align: middle;\n    }\n\n    .dataframe tbody tr th {\n        vertical-align: top;\n    }\n\n    .dataframe thead th {\n        text-align: right;\n    }\n</style>\n<table border=\"1\" class=\"dataframe\">\n  <thead>\n    <tr style=\"text-align: right;\">\n      <th></th>\n      <th></th>\n      <th>y_true</th>\n    </tr>\n    <tr>\n      <th>id_resolucao</th>\n      <th>id_resolucao_citante</th>\n      <th></th>\n    </tr>\n  </thead>\n  <tbody>\n    <tr>\n      <th rowspan=\"5\" valign=\"top\">10</th>\n      <th>116</th>\n      <td>10-116</td>\n    </tr>\n    <tr>\n      <th>116</th>\n      <td>10-116</td>\n    </tr>\n    <tr>\n      <th>116</th>\n      <td>10-116</td>\n    </tr>\n    <tr>\n      <th>117</th>\n      <td>10-117</td>\n    </tr>\n    <tr>\n      <th>117</th>\n      <td>10-117</td>\n    </tr>\n    <tr>\n      <th>...</th>\n      <th>...</th>\n      <td>...</td>\n    </tr>\n    <tr>\n      <th rowspan=\"2\" valign=\"top\">96</th>\n      <th>88</th>\n      <td>96-88</td>\n    </tr>\n    <tr>\n      <th>88</th>\n      <td>96-88</td>\n    </tr>\n    <tr>\n      <th>97</th>\n      <th>790</th>\n      <td>97-790</td>\n    </tr>\n    <tr>\n      <th>98</th>\n      <th>308</th>\n      <td>98-308</td>\n    </tr>\n    <tr>\n      <th>99</th>\n      <th>1257</th>\n      <td>99-1257</td>\n    </tr>\n  </tbody>\n</table>\n<p>3172 rows × 1 columns</p>\n</div>"
     },
     "metadata": {},
     "execution_count": 28
    }
   ],
   "source": [
    "res_citacoes = res_citacoes.set_index(['id_resolucao','id_resolucao_citante'])\n",
    "res_citacoes"
   ]
  },
  {
   "cell_type": "code",
   "execution_count": 13,
   "metadata": {},
   "outputs": [
    {
     "output_type": "execute_result",
     "data": {
      "text/plain": [
       "                                    y_pred\n",
       "id_resolucao id_resolucao_citante         \n",
       "10           116                    10-116\n",
       "             116                    10-116\n",
       "             117                    10-117\n",
       "             117                    10-117\n",
       "             118                    10-118\n",
       "...                                    ...\n",
       "978          450                   978-450\n",
       "             450                   978-450\n",
       "             450                   978-450\n",
       "98           308                    98-308\n",
       "99           1257                  99-1257\n",
       "\n",
       "[3588 rows x 1 columns]"
      ],
      "text/html": "<div>\n<style scoped>\n    .dataframe tbody tr th:only-of-type {\n        vertical-align: middle;\n    }\n\n    .dataframe tbody tr th {\n        vertical-align: top;\n    }\n\n    .dataframe thead th {\n        text-align: right;\n    }\n</style>\n<table border=\"1\" class=\"dataframe\">\n  <thead>\n    <tr style=\"text-align: right;\">\n      <th></th>\n      <th></th>\n      <th>y_pred</th>\n    </tr>\n    <tr>\n      <th>id_resolucao</th>\n      <th>id_resolucao_citante</th>\n      <th></th>\n    </tr>\n  </thead>\n  <tbody>\n    <tr>\n      <th rowspan=\"5\" valign=\"top\">10</th>\n      <th>116</th>\n      <td>10-116</td>\n    </tr>\n    <tr>\n      <th>116</th>\n      <td>10-116</td>\n    </tr>\n    <tr>\n      <th>117</th>\n      <td>10-117</td>\n    </tr>\n    <tr>\n      <th>117</th>\n      <td>10-117</td>\n    </tr>\n    <tr>\n      <th>118</th>\n      <td>10-118</td>\n    </tr>\n    <tr>\n      <th>...</th>\n      <th>...</th>\n      <td>...</td>\n    </tr>\n    <tr>\n      <th rowspan=\"3\" valign=\"top\">978</th>\n      <th>450</th>\n      <td>978-450</td>\n    </tr>\n    <tr>\n      <th>450</th>\n      <td>978-450</td>\n    </tr>\n    <tr>\n      <th>450</th>\n      <td>978-450</td>\n    </tr>\n    <tr>\n      <th>98</th>\n      <th>308</th>\n      <td>98-308</td>\n    </tr>\n    <tr>\n      <th>99</th>\n      <th>1257</th>\n      <td>99-1257</td>\n    </tr>\n  </tbody>\n</table>\n<p>3588 rows × 1 columns</p>\n</div>"
     },
     "metadata": {},
     "execution_count": 13
    }
   ],
   "source": [
    "cit_citacoes = cit_citacoes.set_index(['id_resolucao','id_resolucao_citante'])\n",
    "cit_citacoes"
   ]
  },
  {
   "cell_type": "markdown",
   "metadata": {},
   "source": [
    "### Faz o `right join` entre `res_citacoes` (Resolucoes.py) e `cit_citacoes` (citacoes.ipynb)\n",
    "- \"É importante que as citações que o Resolucoes.py identifica também sejam identificadas pelo produto desta estória, podendo inclusive este produto trazer ganhos em relação ao Resolucoes.py através da identificação de citações que aquele não foi capaz, ou mesmo indicando que citações identificadas por Resolucoes.py são na verdade falsos positivos;\"\n",
    "- Referências: \n",
    "    - https://pandas.pydata.org/pandas-docs/stable/reference/api/pandas.DataFrame.merge.html?highlight=merge#pandas.DataFrame.merge\n",
    "    - https://realpython.com/pandas-merge-join-and-concat/"
   ]
  },
  {
   "cell_type": "code",
   "execution_count": 29,
   "metadata": {},
   "outputs": [
    {
     "output_type": "execute_result",
     "data": {
      "text/plain": [
       "      id_resolucao  id_resolucao_citante  y_true     y_pred\n",
       "0               10                   116  10-116     10-116\n",
       "1               10                   116  10-116     10-116\n",
       "2               10                   116  10-116     10-116\n",
       "3               10                   116  10-116     10-116\n",
       "4               10                   116  10-116     10-116\n",
       "...            ...                   ...     ...        ...\n",
       "9172          1382                  1382     NaN  1382-1382\n",
       "9173          1382                  1382     NaN  1382-1382\n",
       "9174          1382                  1382     NaN  1382-1382\n",
       "9175          1382                  1382     NaN  1382-1382\n",
       "9176          1382                  1382     NaN  1382-1382\n",
       "\n",
       "[9177 rows x 4 columns]"
      ],
      "text/html": "<div>\n<style scoped>\n    .dataframe tbody tr th:only-of-type {\n        vertical-align: middle;\n    }\n\n    .dataframe tbody tr th {\n        vertical-align: top;\n    }\n\n    .dataframe thead th {\n        text-align: right;\n    }\n</style>\n<table border=\"1\" class=\"dataframe\">\n  <thead>\n    <tr style=\"text-align: right;\">\n      <th></th>\n      <th>id_resolucao</th>\n      <th>id_resolucao_citante</th>\n      <th>y_true</th>\n      <th>y_pred</th>\n    </tr>\n  </thead>\n  <tbody>\n    <tr>\n      <th>0</th>\n      <td>10</td>\n      <td>116</td>\n      <td>10-116</td>\n      <td>10-116</td>\n    </tr>\n    <tr>\n      <th>1</th>\n      <td>10</td>\n      <td>116</td>\n      <td>10-116</td>\n      <td>10-116</td>\n    </tr>\n    <tr>\n      <th>2</th>\n      <td>10</td>\n      <td>116</td>\n      <td>10-116</td>\n      <td>10-116</td>\n    </tr>\n    <tr>\n      <th>3</th>\n      <td>10</td>\n      <td>116</td>\n      <td>10-116</td>\n      <td>10-116</td>\n    </tr>\n    <tr>\n      <th>4</th>\n      <td>10</td>\n      <td>116</td>\n      <td>10-116</td>\n      <td>10-116</td>\n    </tr>\n    <tr>\n      <th>...</th>\n      <td>...</td>\n      <td>...</td>\n      <td>...</td>\n      <td>...</td>\n    </tr>\n    <tr>\n      <th>9172</th>\n      <td>1382</td>\n      <td>1382</td>\n      <td>NaN</td>\n      <td>1382-1382</td>\n    </tr>\n    <tr>\n      <th>9173</th>\n      <td>1382</td>\n      <td>1382</td>\n      <td>NaN</td>\n      <td>1382-1382</td>\n    </tr>\n    <tr>\n      <th>9174</th>\n      <td>1382</td>\n      <td>1382</td>\n      <td>NaN</td>\n      <td>1382-1382</td>\n    </tr>\n    <tr>\n      <th>9175</th>\n      <td>1382</td>\n      <td>1382</td>\n      <td>NaN</td>\n      <td>1382-1382</td>\n    </tr>\n    <tr>\n      <th>9176</th>\n      <td>1382</td>\n      <td>1382</td>\n      <td>NaN</td>\n      <td>1382-1382</td>\n    </tr>\n  </tbody>\n</table>\n<p>9177 rows × 4 columns</p>\n</div>"
     },
     "metadata": {},
     "execution_count": 29
    }
   ],
   "source": [
    "resultado = pd.DataFrame()\n",
    "resultado = pd.merge(res_citacoes, cit_citacoes, how='right', on=['id_resolucao','id_resolucao_citante'])\n",
    "resultado"
   ]
  },
  {
   "cell_type": "markdown",
   "metadata": {},
   "source": [
    "### Algumas estatísticas"
   ]
  },
  {
   "cell_type": "code",
   "execution_count": 30,
   "metadata": {},
   "outputs": [],
   "source": [
    "# Caso ainda não tenha sido instalado o pandas-profiling é necessário descomentar e executar o comando de instalação abaixo\n",
    "#!pip install pandas-profiling"
   ]
  },
  {
   "cell_type": "markdown",
   "metadata": {},
   "source": [
    "### Referências:\n",
    "- https://pypi.org/project/pandas-profiling/\n",
    "- https://pandas-profiling.github.io/pandas-profiling/docs/master/index.html\n",
    "- https://towardsdatascience.com/exploratory-data-analysis-with-pandas-profiling-de3aae2ddff3"
   ]
  },
  {
   "source": [
    "from pandas_profiling import ProfileReport\n",
    "info = ProfileReport(resultado, explorative=True)\n",
    "info.to_file(output_file='estatistica_citacoes.html')\n"
   ],
   "cell_type": "markdown",
   "metadata": {}
  },
  {
   "attachments": {
    "pares-id_resolucao-id_resolucao_citante-top-freq.png": {
     "image/png": "[encoded data removed]"
    }
   },
   "cell_type": "markdown",
   "metadata": {},
   "source": [
    "![pares-id_resolucao-id_resolucao_citante-top-freq.png](attachment:pares-id_resolucao-id_resolucao_citante-top-freq.png)"
   ]
  },
  {
   "cell_type": "markdown",
   "metadata": {},
   "source": [
    "### Ponderações:\n",
    "- A imagem acima é resultado do relatório em `/resolucoes-similaridade/estat_resultado.html` gerado pelo `pandas_profiling`\n",
    "- São identificados casos de `false/positive` com quantidade de ocorrências significativa\n",
    "    - Destaque para o par id_resolucao-id_resolucao_citante `331-408` com `151` ocorrências\n",
    "- Não foram identificados casos de `true/negative` nem de `false/negative`"
   ]
  },
  {
   "cell_type": "code",
   "execution_count": 31,
   "metadata": {},
   "outputs": [
    {
     "output_type": "execute_result",
     "data": {
      "text/plain": [
       "      id_resolucao  id_resolucao_citante y_true     y_pred\n",
       "7209            94                     4    NaN       94-4\n",
       "7210            94                     4    NaN       94-4\n",
       "7211            94                     4    NaN       94-4\n",
       "7212            94                     4    NaN       94-4\n",
       "7213            94                     4    NaN       94-4\n",
       "...            ...                   ...    ...        ...\n",
       "9172          1382                  1382    NaN  1382-1382\n",
       "9173          1382                  1382    NaN  1382-1382\n",
       "9174          1382                  1382    NaN  1382-1382\n",
       "9175          1382                  1382    NaN  1382-1382\n",
       "9176          1382                  1382    NaN  1382-1382\n",
       "\n",
       "[1968 rows x 4 columns]"
      ],
      "text/html": "<div>\n<style scoped>\n    .dataframe tbody tr th:only-of-type {\n        vertical-align: middle;\n    }\n\n    .dataframe tbody tr th {\n        vertical-align: top;\n    }\n\n    .dataframe thead th {\n        text-align: right;\n    }\n</style>\n<table border=\"1\" class=\"dataframe\">\n  <thead>\n    <tr style=\"text-align: right;\">\n      <th></th>\n      <th>id_resolucao</th>\n      <th>id_resolucao_citante</th>\n      <th>y_true</th>\n      <th>y_pred</th>\n    </tr>\n  </thead>\n  <tbody>\n    <tr>\n      <th>7209</th>\n      <td>94</td>\n      <td>4</td>\n      <td>NaN</td>\n      <td>94-4</td>\n    </tr>\n    <tr>\n      <th>7210</th>\n      <td>94</td>\n      <td>4</td>\n      <td>NaN</td>\n      <td>94-4</td>\n    </tr>\n    <tr>\n      <th>7211</th>\n      <td>94</td>\n      <td>4</td>\n      <td>NaN</td>\n      <td>94-4</td>\n    </tr>\n    <tr>\n      <th>7212</th>\n      <td>94</td>\n      <td>4</td>\n      <td>NaN</td>\n      <td>94-4</td>\n    </tr>\n    <tr>\n      <th>7213</th>\n      <td>94</td>\n      <td>4</td>\n      <td>NaN</td>\n      <td>94-4</td>\n    </tr>\n    <tr>\n      <th>...</th>\n      <td>...</td>\n      <td>...</td>\n      <td>...</td>\n      <td>...</td>\n    </tr>\n    <tr>\n      <th>9172</th>\n      <td>1382</td>\n      <td>1382</td>\n      <td>NaN</td>\n      <td>1382-1382</td>\n    </tr>\n    <tr>\n      <th>9173</th>\n      <td>1382</td>\n      <td>1382</td>\n      <td>NaN</td>\n      <td>1382-1382</td>\n    </tr>\n    <tr>\n      <th>9174</th>\n      <td>1382</td>\n      <td>1382</td>\n      <td>NaN</td>\n      <td>1382-1382</td>\n    </tr>\n    <tr>\n      <th>9175</th>\n      <td>1382</td>\n      <td>1382</td>\n      <td>NaN</td>\n      <td>1382-1382</td>\n    </tr>\n    <tr>\n      <th>9176</th>\n      <td>1382</td>\n      <td>1382</td>\n      <td>NaN</td>\n      <td>1382-1382</td>\n    </tr>\n  </tbody>\n</table>\n<p>1968 rows × 4 columns</p>\n</div>"
     },
     "metadata": {},
     "execution_count": 31
    }
   ],
   "source": [
    "resultado[resultado['y_true'].isna()]"
   ]
  },
  {
   "cell_type": "code",
   "execution_count": 32,
   "metadata": {},
   "outputs": [
    {
     "output_type": "execute_result",
     "data": {
      "text/plain": [
       "Empty DataFrame\n",
       "Columns: [id_resolucao, id_resolucao_citante, y_true, y_pred]\n",
       "Index: []"
      ],
      "text/html": "<div>\n<style scoped>\n    .dataframe tbody tr th:only-of-type {\n        vertical-align: middle;\n    }\n\n    .dataframe tbody tr th {\n        vertical-align: top;\n    }\n\n    .dataframe thead th {\n        text-align: right;\n    }\n</style>\n<table border=\"1\" class=\"dataframe\">\n  <thead>\n    <tr style=\"text-align: right;\">\n      <th></th>\n      <th>id_resolucao</th>\n      <th>id_resolucao_citante</th>\n      <th>y_true</th>\n      <th>y_pred</th>\n    </tr>\n  </thead>\n  <tbody>\n  </tbody>\n</table>\n</div>"
     },
     "metadata": {},
     "execution_count": 32
    }
   ],
   "source": [
    "resultado = resultado.fillna(0)\n",
    "resultado[resultado['y_true'].isna()]"
   ]
  },
  {
   "cell_type": "code",
   "execution_count": 33,
   "metadata": {},
   "outputs": [
    {
     "output_type": "execute_result",
     "data": {
      "text/plain": [
       "      id_resolucao  id_resolucao_citante  y_true     y_pred  yt  yp\n",
       "0               10                   116  10-116     10-116   1   1\n",
       "1               10                   116  10-116     10-116   1   1\n",
       "2               10                   116  10-116     10-116   1   1\n",
       "3               10                   116  10-116     10-116   1   1\n",
       "4               10                   116  10-116     10-116   1   1\n",
       "...            ...                   ...     ...        ...  ..  ..\n",
       "9172          1382                  1382       0  1382-1382   0   1\n",
       "9173          1382                  1382       0  1382-1382   0   1\n",
       "9174          1382                  1382       0  1382-1382   0   1\n",
       "9175          1382                  1382       0  1382-1382   0   1\n",
       "9176          1382                  1382       0  1382-1382   0   1\n",
       "\n",
       "[9177 rows x 6 columns]"
      ],
      "text/html": "<div>\n<style scoped>\n    .dataframe tbody tr th:only-of-type {\n        vertical-align: middle;\n    }\n\n    .dataframe tbody tr th {\n        vertical-align: top;\n    }\n\n    .dataframe thead th {\n        text-align: right;\n    }\n</style>\n<table border=\"1\" class=\"dataframe\">\n  <thead>\n    <tr style=\"text-align: right;\">\n      <th></th>\n      <th>id_resolucao</th>\n      <th>id_resolucao_citante</th>\n      <th>y_true</th>\n      <th>y_pred</th>\n      <th>yt</th>\n      <th>yp</th>\n    </tr>\n  </thead>\n  <tbody>\n    <tr>\n      <th>0</th>\n      <td>10</td>\n      <td>116</td>\n      <td>10-116</td>\n      <td>10-116</td>\n      <td>1</td>\n      <td>1</td>\n    </tr>\n    <tr>\n      <th>1</th>\n      <td>10</td>\n      <td>116</td>\n      <td>10-116</td>\n      <td>10-116</td>\n      <td>1</td>\n      <td>1</td>\n    </tr>\n    <tr>\n      <th>2</th>\n      <td>10</td>\n      <td>116</td>\n      <td>10-116</td>\n      <td>10-116</td>\n      <td>1</td>\n      <td>1</td>\n    </tr>\n    <tr>\n      <th>3</th>\n      <td>10</td>\n      <td>116</td>\n      <td>10-116</td>\n      <td>10-116</td>\n      <td>1</td>\n      <td>1</td>\n    </tr>\n    <tr>\n      <th>4</th>\n      <td>10</td>\n      <td>116</td>\n      <td>10-116</td>\n      <td>10-116</td>\n      <td>1</td>\n      <td>1</td>\n    </tr>\n    <tr>\n      <th>...</th>\n      <td>...</td>\n      <td>...</td>\n      <td>...</td>\n      <td>...</td>\n      <td>...</td>\n      <td>...</td>\n    </tr>\n    <tr>\n      <th>9172</th>\n      <td>1382</td>\n      <td>1382</td>\n      <td>0</td>\n      <td>1382-1382</td>\n      <td>0</td>\n      <td>1</td>\n    </tr>\n    <tr>\n      <th>9173</th>\n      <td>1382</td>\n      <td>1382</td>\n      <td>0</td>\n      <td>1382-1382</td>\n      <td>0</td>\n      <td>1</td>\n    </tr>\n    <tr>\n      <th>9174</th>\n      <td>1382</td>\n      <td>1382</td>\n      <td>0</td>\n      <td>1382-1382</td>\n      <td>0</td>\n      <td>1</td>\n    </tr>\n    <tr>\n      <th>9175</th>\n      <td>1382</td>\n      <td>1382</td>\n      <td>0</td>\n      <td>1382-1382</td>\n      <td>0</td>\n      <td>1</td>\n    </tr>\n    <tr>\n      <th>9176</th>\n      <td>1382</td>\n      <td>1382</td>\n      <td>0</td>\n      <td>1382-1382</td>\n      <td>0</td>\n      <td>1</td>\n    </tr>\n  </tbody>\n</table>\n<p>9177 rows × 6 columns</p>\n</div>"
     },
     "metadata": {},
     "execution_count": 33
    }
   ],
   "source": [
    "resultado['yt'] = 0\n",
    "resultado['yp'] = 0\n",
    "for i in range(len(resultado)):\n",
    "    if resultado.iloc[i].y_true == resultado.iloc[i].y_pred:\n",
    "        resultado.loc[i,'yt'] = 1\n",
    "        resultado.loc[i,'yp'] = 1\n",
    "    else:\n",
    "        resultado.loc[i,'yt'] = 0\n",
    "        resultado.loc[i,'yp'] = 1\n",
    "\n",
    "resultado"
   ]
  },
  {
   "cell_type": "code",
   "execution_count": 34,
   "metadata": {},
   "outputs": [
    {
     "output_type": "stream",
     "name": "stdout",
     "text": [
      "y_true==0 -> (0, 6) y_true==1 -> (9177, 6)\ny_pred==0 -> (0, 6)   y_pred==1 -> (9177, 6)\n"
     ]
    }
   ],
   "source": [
    "print('y_true==0 -> {} y_true==1 -> {}'.format(resultado[resultado['y_true']=='0'].shape, resultado[resultado['y_true']!='0'].shape))\n",
    "print('y_pred==0 -> {}   y_pred==1 -> {}'.format(resultado[resultado['y_pred']=='0'].shape ,resultado[resultado['y_pred']!='0'].shape))"
   ]
  },
  {
   "cell_type": "code",
   "execution_count": 35,
   "metadata": {},
   "outputs": [
    {
     "output_type": "stream",
     "name": "stdout",
     "text": [
      "Acurácia: 78.56%\n"
     ]
    }
   ],
   "source": [
    "from sklearn.metrics import accuracy_score\n",
    "print('Acurácia: {:.2f}%'.format(accuracy_score(resultado.yt, resultado.yp)*100))"
   ]
  },
  {
   "cell_type": "code",
   "execution_count": 36,
   "metadata": {},
   "outputs": [
    {
     "output_type": "stream",
     "name": "stdout",
     "text": [
      "              precision    recall  f1-score   support\n\n      y_true       0.00      0.00      0.00      1968\n      y_pred       0.79      1.00      0.88      7209\n\n    accuracy                           0.79      9177\n   macro avg       0.39      0.50      0.44      9177\nweighted avg       0.62      0.79      0.69      9177\n\n"
     ]
    }
   ],
   "source": [
    "from sklearn.metrics import classification_report\n",
    "print(classification_report(resultado.yt, resultado.yp, target_names=['y_true','y_pred']))"
   ]
  },
  {
   "cell_type": "markdown",
   "metadata": {},
   "source": [
    "### Identificar o id_resolucao_citante via banco de dados"
   ]
  },
  {
   "cell_type": "code",
   "execution_count": null,
   "metadata": {},
   "outputs": [],
   "source": [
    "import os\n",
    "import sys\n",
    "#import numpy\n",
    "import logging\n",
    "import configparser\n",
    "import mysql.connector\n",
    "config = configparser.RawConfigParser(allow_no_value=True)\n",
    "config.read(os.path.dirname(os.path.abspath(__file__))+'/config.ini', encoding='utf8')\n",
    "banco = dict(config._sections)\n",
    "\n",
    "for k in banco:\n",
    "    banco[k] = dict(config._defaults, **banco[k])\n",
    "    banco[k].pop('__name__', None)\n",
    "\n",
    "caminho_qlik_sense = 'C:/Users/sandi.engesoftware/Documents/workspace/resolucoes-similaridade/mnt/resolucoes-repo/'\n",
    "caminho_qlik_sense = '/mnt/resolucoes-repo/'\n",
    "logging.basicConfig(filename=caminho_qlik_sense + 'resolucoes.log', filemode='w',\n",
    "                    format='[%(asctime)s]: %(name)s - %(levelname)s - %(message)s', datefmt='%Y-%m-%d %H:%M:%S',\n",
    "                    level=logging.DEBUG)\n",
    "\n",
    "legislacaodb = []\n",
    "\n",
    "try:\n",
    "    legislacaodb = mysql.connector.connect(\n",
    "        host=banco['banco']['host'],\n",
    "        port=banco['banco']['port'],\n",
    "        user=banco['banco']['user'],\n",
    "        passwd=banco['banco']['passwd']\n",
    "    )\n",
    "except Exception as e:\n",
    "    logging.error(e)\n",
    "    raise Exception('deu erro')\n",
    "\n",
    "# o SQL abaixo foi testado e está em conformidade com as necessidades deste programa\n",
    "query = \"\"\"\n",
    "    select\n",
    "        distinct substring(alias, length(substring_index(alias, '-', 1))+2, length(alias)) as nro_res,\n",
    "        ctx.id, ctx.alias, ctx.title\n",
    "    from prod_legislacao.bno4z_content ctx\n",
    "    where \n",
    "            lower(ctx.title) like 'resolu%'\n",
    "        and ctx.language <> 'en-US' \n",
    "        and ctx.language <> 'es-ES' \n",
    "        and state=1\n",
    "    order by nro_res\n",
    "    \"\"\""
   ]
  },
  {
   "cell_type": "code",
   "execution_count": null,
   "metadata": {},
   "outputs": [],
   "source": [
    "a='conjunta-1'\n",
    "b='conjunta-2'\n",
    "c='funttel-93'\n",
    "d='funttel-94'\n",
    "e='funttel-95'\n",
    "f='funttel-97'\n",
    "g='n-330-de-05-de-fevereiro-de-2003,278,\"Resolução nº 330, de 05 de fevereiro de 2003 (REVOGADA)\"'\n",
    "h='Resolução nº 005, de 15 de janeiro de 1998.,§'\n",
    "i='Resolução nº 069, de 23 de novembro de 1998'\n",
    "print(find_nro_resolucao(a))\n",
    "print(find_nro_resolucao(b))\n",
    "print(find_nro_resolucao(c))\n",
    "print(find_nro_resolucao(d))\n",
    "print(find_nro_resolucao(e))\n",
    "print(find_nro_resolucao(f))\n",
    "print(find_nro_resolucao(g))\n",
    "print('')\n",
    "print(find_id_resolucao('conjunta-1,84,\"Resolução Conjunta nº 1, de 24 de novembro de 1999 (Aneel, Anatel e ANP)\"'))\n",
    "print(find_id_resolucao('\"Resolução Conjunta nº 1, de 24 de novembro de 1999 (Aneel, Anatel e ANP)\"'))\n",
    "print(find_id_resolucao('Resolução nº 24, de 22 de setembro de 1966'))\n",
    "print('')\n",
    "print(find_nro_resolucao(h))\n",
    "print(find_nro_resolucao(i))\n",
    "print(find_id_resolucao(h))\n",
    "print(find_id_resolucao(i))\n",
    "print('')\n",
    "print(clean_citacao('Resolução nº 491, de 12 de fevereiro de 2008.,CAPÍTULO'))"
   ]
  },
  {
   "cell_type": "code",
   "execution_count": null,
   "metadata": {},
   "outputs": [],
   "source": [
    "\"\"\" citacoes_iguais = 0\n",
    "\n",
    "# citações sem duplicidade em Resolucoes.py\n",
    "res_citacoes = resolucoes_py[['id_resolucao','id_resolucao_citante']].drop_duplicates()\n",
    "# citações sem duplicidade em citacoes.ipynb\n",
    "cit_citacoes = citacoes_ipynb[['id_resolucao','id_resolucao_citante']].drop_duplicates()\n",
    "\n",
    "#lista_ypred = str(cit_citacoes['id_resolucao']) +'_'+ str(cit_citacoes['id_resolucao_citante'])\n",
    "#lista_ytrue = str(res_citacoes['id_resolucao_citante']) +'_'+ str(res_citacoes['id_resolucao_citante'])\n",
    "\n",
    "# usando id_resolucao_citante, encontra citações iguais em Resolucoes.py e citacoes.ipynb\n",
    "for y_pred_idx in range(len(cit_citacoes.id_resolucao)):\n",
    "    for y_true_idx in range(len(res_citacoes.id_resolucao)):\n",
    "        #if int(y_true) == int(y_pred):\n",
    "        if (cit_citacoes.loc[y_pred_idx].id_resolucao == res_citacoes.loc[y_true_idx].id_resolucao) & (cit_citacoes.loc[y_pred_idx].id_resolucao_citante == res_citacoes.loc[y_true_idx].id_resolucao_citante):\n",
    "            citacoes_iguais += 1\n",
    "\n",
    "#total sem duplicidade em citacoes.ipynb\n",
    "qtd_cit_citacoes = citacoes_ipynb.id_resolucao.drop_duplicates().count()\n",
    "#total sem duplicidade em Resolucoes.py\n",
    "qtd_res_citacoes = resolucoes_py.id_resolucao.drop_duplicates().count() \n",
    "\n",
    "print('Qtd citações em Resolucoes.py:  ', qtd_res_citacoes)\n",
    "print('Qtd citações em citacoes.ipynb: ', qtd_cit_citacoes)\n",
    "print('Citações que existentem em Resolucoes.py e citacoes.ipynb:', citacoes_iguais)\n",
    "print('- O citacoes.ipynb tem', qtd_cit_citacoes - qtd_res_citacoes, 'citações a mais que o Resolucoes.py')\n",
    "\n",
    "print('Acurácia: %2.2f' %(citacoes_iguais / ((qtd_cit_citacoes - qtd_res_citacoes) + citacoes_iguais) * 100)) \"\"\""
   ]
  },
  {
   "cell_type": "code",
   "execution_count": null,
   "metadata": {},
   "outputs": [],
   "source": []
  }
 ],
 "metadata": {
  "kernelspec": {
   "display_name": "Python 3",
   "language": "python",
   "name": "python3"
  },
  "language_info": {
   "codemirror_mode": {
    "name": "ipython",
    "version": 3
   },
   "file_extension": ".py",
   "mimetype": "text/x-python",
   "name": "python",
   "nbconvert_exporter": "python",
   "pygments_lexer": "ipython3",
   "version": "3.8.3-final"
  }
 },
 "nbformat": 4,
 "nbformat_minor": 4
}